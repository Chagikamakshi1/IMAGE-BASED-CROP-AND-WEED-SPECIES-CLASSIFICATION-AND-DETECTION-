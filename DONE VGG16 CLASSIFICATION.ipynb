{
 "cells": [
  {
   "cell_type": "code",
   "execution_count": 1,
   "id": "e14c4a2e",
   "metadata": {},
   "outputs": [],
   "source": [
    "from tensorflow.keras.layers import Conv2D,Flatten,Dense,MaxPool2D,BatchNormalization,GlobalAveragePooling2D\n",
    "from tensorflow.keras.applications.resnet50 import preprocess_input,decode_predictions\n",
    "from tensorflow.keras.preprocessing.image import ImageDataGenerator,load_img\n",
    "from tensorflow.keras.applications.resnet50 import ResNet50\n",
    "from tensorflow.keras.models import Sequential\n",
    "from tensorflow.keras.models import Model\n",
    "import matplotlib.pyplot as plt\n",
    "import numpy as np"
   ]
  },
  {
   "cell_type": "code",
   "execution_count": 6,
   "id": "7f7fedbb",
   "metadata": {},
   "outputs": [],
   "source": [
    "img_height,img_width=(224,224)\n",
    "batch_size=3\n",
    "train_data_dir=r\"D:\\MTP PROJECT\\OUTPUT\\train\"\n",
    "valid_data_dir=r\"D:\\MTP PROJECT\\OUTPUT\\val\"\n",
    "test_data_dir=r\"D:\\MTP PROJECT\\OUTPUT\\test\""
   ]
  },
  {
   "cell_type": "code",
   "execution_count": 7,
   "id": "8d7ae737",
   "metadata": {},
   "outputs": [
    {
     "name": "stdout",
     "output_type": "stream",
     "text": [
      "Found 141 images belonging to 3 classes.\n",
      "Found 93 images belonging to 3 classes.\n"
     ]
    }
   ],
   "source": [
    "train_datagen=ImageDataGenerator(preprocessing_function=preprocess_input,\n",
    "                                shear_range=0.2,\n",
    "                                zoom_range=0.2,\n",
    "                                horizontal_flip=True,\n",
    "                                validation_split=0.4)\n",
    "\n",
    "train_generator=train_datagen.flow_from_directory(\n",
    "      train_data_dir,\n",
    "      target_size=(img_height,img_width),\n",
    "      batch_size=batch_size,\n",
    "      class_mode=\"categorical\",\n",
    "      subset=\"training\")   #set as training data\n",
    "\n",
    "train_generator=train_datagen.flow_from_directory(\n",
    "      train_data_dir,\n",
    "      target_size=(img_height,img_width),\n",
    "      batch_size=batch_size,\n",
    "      class_mode=\"categorical\",\n",
    "      subset=\"validation\")   #set as validation data\n",
    "\n"
   ]
  },
  {
   "cell_type": "code",
   "execution_count": 8,
   "id": "9345b89a",
   "metadata": {},
   "outputs": [
    {
     "name": "stdout",
     "output_type": "stream",
     "text": [
      "Found 93 images belonging to 3 classes.\n"
     ]
    }
   ],
   "source": [
    "test_generator=train_datagen.flow_from_directory(\n",
    "      train_data_dir,\n",
    "      target_size=(img_height,img_width),\n",
    "      batch_size=1,\n",
    "      class_mode=\"categorical\",\n",
    "      subset=\"validation\")   #set as validation data\n"
   ]
  },
  {
   "cell_type": "code",
   "execution_count": 9,
   "id": "e7850b0c",
   "metadata": {},
   "outputs": [
    {
     "data": {
      "text/plain": [
       "(1, 224, 224, 3)"
      ]
     },
     "execution_count": 9,
     "metadata": {},
     "output_type": "execute_result"
    }
   ],
   "source": [
    "x,y=test_generator.next()\n",
    "x.shape"
   ]
  },
  {
   "cell_type": "code",
   "execution_count": 10,
   "id": "b03e88b5",
   "metadata": {},
   "outputs": [
    {
     "data": {
      "text/plain": [
       "3"
      ]
     },
     "execution_count": 10,
     "metadata": {},
     "output_type": "execute_result"
    }
   ],
   "source": [
    "train_generator.num_classes"
   ]
  },
  {
   "cell_type": "code",
   "execution_count": 12,
   "id": "8870ce0e",
   "metadata": {},
   "outputs": [],
   "source": [
    "from tensorflow.keras.layers import Input,Flatten,Dense\n",
    "from tensorflow.keras.models import Model\n",
    "from tensorflow.keras.applications.vgg16 import VGG16\n",
    "from tensorflow.keras.models import Sequential\n",
    "from glob import glob"
   ]
  },
  {
   "cell_type": "code",
   "execution_count": 13,
   "id": "984c6d63",
   "metadata": {},
   "outputs": [
    {
     "data": {
      "text/plain": [
       "<KerasTensor: shape=(None, 7, 7, 512) dtype=float32 (created by layer 'block5_pool')>"
      ]
     },
     "execution_count": 13,
     "metadata": {},
     "output_type": "execute_result"
    }
   ],
   "source": [
    "IMAGE_SIZE=[224,224]\n",
    "vgg=VGG16(input_shape=IMAGE_SIZE+[3],weights='imagenet',include_top=False)\n",
    "vgg.output"
   ]
  },
  {
   "cell_type": "code",
   "execution_count": 14,
   "id": "b6ebff18",
   "metadata": {},
   "outputs": [],
   "source": [
    "for layer in vgg.layers:\n",
    "    layer.trainable=False"
   ]
  },
  {
   "cell_type": "code",
   "execution_count": 16,
   "id": "355018e4",
   "metadata": {},
   "outputs": [
    {
     "name": "stdout",
     "output_type": "stream",
     "text": [
      "Model: \"model\"\n",
      "_________________________________________________________________\n",
      " Layer (type)                Output Shape              Param #   \n",
      "=================================================================\n",
      " input_1 (InputLayer)        [(None, 224, 224, 3)]     0         \n",
      "                                                                 \n",
      " block1_conv1 (Conv2D)       (None, 224, 224, 64)      1792      \n",
      "                                                                 \n",
      " block1_conv2 (Conv2D)       (None, 224, 224, 64)      36928     \n",
      "                                                                 \n",
      " block1_pool (MaxPooling2D)  (None, 112, 112, 64)      0         \n",
      "                                                                 \n",
      " block2_conv1 (Conv2D)       (None, 112, 112, 128)     73856     \n",
      "                                                                 \n",
      " block2_conv2 (Conv2D)       (None, 112, 112, 128)     147584    \n",
      "                                                                 \n",
      " block2_pool (MaxPooling2D)  (None, 56, 56, 128)       0         \n",
      "                                                                 \n",
      " block3_conv1 (Conv2D)       (None, 56, 56, 256)       295168    \n",
      "                                                                 \n",
      " block3_conv2 (Conv2D)       (None, 56, 56, 256)       590080    \n",
      "                                                                 \n",
      " block3_conv3 (Conv2D)       (None, 56, 56, 256)       590080    \n",
      "                                                                 \n",
      " block3_pool (MaxPooling2D)  (None, 28, 28, 256)       0         \n",
      "                                                                 \n",
      " block4_conv1 (Conv2D)       (None, 28, 28, 512)       1180160   \n",
      "                                                                 \n",
      " block4_conv2 (Conv2D)       (None, 28, 28, 512)       2359808   \n",
      "                                                                 \n",
      " block4_conv3 (Conv2D)       (None, 28, 28, 512)       2359808   \n",
      "                                                                 \n",
      " block4_pool (MaxPooling2D)  (None, 14, 14, 512)       0         \n",
      "                                                                 \n",
      " block5_conv1 (Conv2D)       (None, 14, 14, 512)       2359808   \n",
      "                                                                 \n",
      " block5_conv2 (Conv2D)       (None, 14, 14, 512)       2359808   \n",
      "                                                                 \n",
      " block5_conv3 (Conv2D)       (None, 14, 14, 512)       2359808   \n",
      "                                                                 \n",
      " block5_pool (MaxPooling2D)  (None, 7, 7, 512)         0         \n",
      "                                                                 \n",
      " flatten_1 (Flatten)         (None, 25088)             0         \n",
      "                                                                 \n",
      " dense (Dense)               (None, 3)                 75267     \n",
      "                                                                 \n",
      "=================================================================\n",
      "Total params: 14,789,955\n",
      "Trainable params: 75,267\n",
      "Non-trainable params: 14,714,688\n",
      "_________________________________________________________________\n"
     ]
    }
   ],
   "source": [
    "x=Flatten()(vgg.output)\n",
    "prediction=Dense(train_generator.num_classes,activation='softmax')(x)\n",
    "model=Model(inputs=vgg.input,outputs=prediction)\n",
    "model.summary()"
   ]
  },
  {
   "cell_type": "code",
   "execution_count": 17,
   "id": "709a8f87",
   "metadata": {},
   "outputs": [],
   "source": [
    "model.compile(loss='binary_crossentropy', optimizer='adam', metrics=['accuracy'])"
   ]
  },
  {
   "cell_type": "code",
   "execution_count": 18,
   "id": "f3a477cb",
   "metadata": {},
   "outputs": [
    {
     "name": "stdout",
     "output_type": "stream",
     "text": [
      "Epoch 1/10\n",
      "31/31 [==============================] - 30s 852ms/step - loss: 1.1045 - accuracy: 0.7097\n",
      "Epoch 2/10\n",
      "31/31 [==============================] - 32s 1s/step - loss: 0.1056 - accuracy: 0.9892\n",
      "Epoch 3/10\n",
      "31/31 [==============================] - 34s 1s/step - loss: 0.0628 - accuracy: 1.0000\n",
      "Epoch 4/10\n",
      "31/31 [==============================] - 33s 1s/step - loss: 0.0120 - accuracy: 1.0000\n",
      "Epoch 5/10\n",
      "31/31 [==============================] - 28s 895ms/step - loss: 0.0639 - accuracy: 0.9785\n",
      "Epoch 6/10\n",
      "31/31 [==============================] - 32s 1s/step - loss: 0.0296 - accuracy: 1.0000\n",
      "Epoch 7/10\n",
      "31/31 [==============================] - 39s 1s/step - loss: 0.0416 - accuracy: 0.9892\n",
      "Epoch 8/10\n",
      "31/31 [==============================] - 49s 2s/step - loss: 0.0468 - accuracy: 1.0000\n",
      "Epoch 9/10\n",
      "31/31 [==============================] - 50s 2s/step - loss: 7.5470e-04 - accuracy: 1.0000\n",
      "Epoch 10/10\n",
      "31/31 [==============================] - 49s 2s/step - loss: 8.5628e-04 - accuracy: 1.0000\n"
     ]
    },
    {
     "data": {
      "text/plain": [
       "Text(0.5, 0, 'epochs')"
      ]
     },
     "execution_count": 18,
     "metadata": {},
     "output_type": "execute_result"
    },
    {
     "data": {
      "image/png": "[encoded data removed]",
      "text/plain": [
       "<Figure size 720x1152 with 1 Axes>"
      ]
     },
     "metadata": {
      "needs_background": "light"
     },
     "output_type": "display_data"
    },
    {
     "data": {
      "image/png": "[encoded data removed]",
      "text/plain": [
       "<Figure size 720x1152 with 1 Axes>"
      ]
     },
     "metadata": {},
     "output_type": "display_data"
    }
   ],
   "source": [
    "history=model.fit(train_generator,\n",
    "         epochs=10)\n",
    "accuracy = history.history['accuracy']\n",
    "loss=history.history['loss']\n",
    "# loss = history.history[\"categorical_crossentropy\"]\n",
    "\n",
    "plt.figure(figsize=(10, 16))\n",
    "plt.rcParams['figure.figsize'] = [16, 9]\n",
    "plt.rcParams['font.size'] = 14\n",
    "plt.rcParams['axes.grid'] = True\n",
    "plt.rcParams['figure.facecolor'] = 'white'\n",
    "plt.subplot(2, 1, 1)\n",
    "plt.plot(accuracy, label='Train accuracy')\n",
    "# plt.plot(loss, label='loss')\n",
    "plt.legend(loc='lower right')\n",
    "plt.ylabel('Accuracy')\n",
    "plt.xlabel('epochs')\n",
    "\n",
    "plt.figure(figsize=(10, 16))\n",
    "plt.rcParams['figure.figsize'] = [16, 9]\n",
    "plt.rcParams['font.size'] = 14\n",
    "plt.rcParams['axes.grid'] = True\n",
    "plt.rcParams['figure.facecolor'] = 'white'\n",
    "plt.subplot(2, 1, 1)\n",
    "plt.plot(loss, label='loss')\n",
    "plt.legend(loc='lower right')\n",
    "plt.ylabel('Loss')\n",
    "plt.xlabel('epochs')"
   ]
  },
  {
   "cell_type": "code",
   "execution_count": 19,
   "id": "4e9b3be4",
   "metadata": {},
   "outputs": [
    {
     "name": "stdout",
     "output_type": "stream",
     "text": [
      "Epoch 1/10\n",
      "93/93 [==============================] - 60s 614ms/step - loss: 1.3233e-04 - accuracy: 1.0000\n",
      "Epoch 2/10\n",
      "93/93 [==============================] - 51s 547ms/step - loss: 1.2248e-05 - accuracy: 1.0000\n",
      "Epoch 3/10\n",
      "93/93 [==============================] - 50s 533ms/step - loss: 8.0708e-04 - accuracy: 1.0000\n",
      "Epoch 4/10\n",
      "93/93 [==============================] - 48s 512ms/step - loss: 0.0105 - accuracy: 1.0000\n",
      "Epoch 5/10\n",
      "93/93 [==============================] - 52s 554ms/step - loss: 0.1956 - accuracy: 0.9892\n",
      "Epoch 6/10\n",
      "93/93 [==============================] - 47s 504ms/step - loss: 0.1659 - accuracy: 0.9892\n",
      "Epoch 7/10\n",
      "93/93 [==============================] - 33s 353ms/step - loss: 0.0349 - accuracy: 1.0000\n",
      "Epoch 8/10\n",
      "93/93 [==============================] - 33s 351ms/step - loss: 0.0079 - accuracy: 1.0000\n",
      "Epoch 9/10\n",
      "93/93 [==============================] - 29s 309ms/step - loss: 0.0660 - accuracy: 1.0000\n",
      "Epoch 10/10\n",
      "93/93 [==============================] - 30s 318ms/step - loss: 0.2509 - accuracy: 0.9785\n"
     ]
    },
    {
     "data": {
      "text/plain": [
       "Text(0.5, 0, 'epochs')"
      ]
     },
     "execution_count": 19,
     "metadata": {},
     "output_type": "execute_result"
    },
    {
     "data": {
      "image/png": "[encoded data removed]",
      "text/plain": [
       "<Figure size 720x1152 with 1 Axes>"
      ]
     },
     "metadata": {},
     "output_type": "display_data"
    },
    {
     "data": {
      "image/png": "[encoded data removed]",
      "text/plain": [
       "<Figure size 720x1152 with 1 Axes>"
      ]
     },
     "metadata": {},
     "output_type": "display_data"
    }
   ],
   "source": [
    "history=model.fit(test_generator,\n",
    "         epochs=10)\n",
    "accuracy = history.history['accuracy']\n",
    "loss=history.history['loss']\n",
    "# loss = history.history[\"categorical_crossentropy\"]\n",
    "\n",
    "plt.figure(figsize=(10, 16))\n",
    "plt.rcParams['figure.figsize'] = [16, 9]\n",
    "plt.rcParams['font.size'] = 14\n",
    "plt.rcParams['axes.grid'] = True\n",
    "plt.rcParams['figure.facecolor'] = 'white'\n",
    "plt.subplot(2, 1, 1)\n",
    "plt.plot(accuracy, label='Test accuracy')\n",
    "# plt.plot(loss, label='loss')\n",
    "plt.legend(loc='lower right')\n",
    "plt.ylabel('Accuracy')\n",
    "plt.xlabel('epochs')\n",
    "\n",
    "plt.figure(figsize=(10, 16))\n",
    "plt.rcParams['figure.figsize'] = [16, 9]\n",
    "plt.rcParams['font.size'] = 14\n",
    "plt.rcParams['axes.grid'] = True\n",
    "plt.rcParams['figure.facecolor'] = 'white'\n",
    "plt.subplot(2, 1, 1)\n",
    "plt.plot(loss, label='loss')\n",
    "plt.legend(loc='lower right')\n",
    "plt.ylabel('Loss')\n",
    "plt.xlabel('epochs')"
   ]
  },
  {
   "cell_type": "code",
   "execution_count": 20,
   "id": "97ee0891",
   "metadata": {},
   "outputs": [],
   "source": [
    "model.save(r\"D:\\lab images\\saved_model\\VGG16.h5\")"
   ]
  },
  {
   "cell_type": "code",
   "execution_count": 21,
   "id": "f24b858d",
   "metadata": {},
   "outputs": [
    {
     "name": "stdout",
     "output_type": "stream",
     "text": [
      "93/93 - 30s - loss: 1.9406e-06 - accuracy: 1.0000 - 30s/epoch - 325ms/step\n",
      "\n",
      "Test accuracy: 1.0\n"
     ]
    }
   ],
   "source": [
    "test_loss,test_acc=model.evaluate(test_generator,verbose=2)\n",
    "\n",
    "print(\"\\nTest accuracy:\",test_acc)  #accuracy of test dataset"
   ]
  },
  {
   "cell_type": "code",
   "execution_count": 23,
   "id": "b8e68ea2",
   "metadata": {},
   "outputs": [
    {
     "name": "stdout",
     "output_type": "stream",
     "text": [
      "1/1 [==============================] - 1s 1s/step\n",
      "1/1 [==============================] - 0s 316ms/step\n",
      "1/1 [==============================] - 0s 329ms/step\n",
      "1/1 [==============================] - 0s 313ms/step\n",
      "1/1 [==============================] - 0s 362ms/step\n",
      "1/1 [==============================] - 0s 286ms/step\n",
      "1/1 [==============================] - 0s 304ms/step\n",
      "1/1 [==============================] - 0s 301ms/step\n",
      "1/1 [==============================] - 0s 288ms/step\n",
      "1/1 [==============================] - 0s 282ms/step\n",
      "1/1 [==============================] - 0s 297ms/step\n",
      "1/1 [==============================] - 0s 303ms/step\n",
      "1/1 [==============================] - 0s 286ms/step\n",
      "1/1 [==============================] - 0s 290ms/step\n",
      "1/1 [==============================] - 0s 301ms/step\n",
      "1/1 [==============================] - 0s 349ms/step\n",
      "1/1 [==============================] - 1s 775ms/step\n",
      "1/1 [==============================] - 0s 375ms/step\n",
      "1/1 [==============================] - 0s 391ms/step\n",
      "1/1 [==============================] - 0s 395ms/step\n",
      "1/1 [==============================] - 0s 321ms/step\n",
      "1/1 [==============================] - 0s 324ms/step\n",
      "1/1 [==============================] - 0s 302ms/step\n",
      "1/1 [==============================] - 0s 347ms/step\n",
      "1/1 [==============================] - 0s 302ms/step\n",
      "1/1 [==============================] - 0s 302ms/step\n",
      "1/1 [==============================] - 0s 311ms/step\n",
      "1/1 [==============================] - 0s 299ms/step\n",
      "1/1 [==============================] - 0s 312ms/step\n",
      "1/1 [==============================] - 0s 323ms/step\n",
      "1/1 [==============================] - 0s 323ms/step\n",
      "1/1 [==============================] - 0s 335ms/step\n",
      "1/1 [==============================] - 0s 366ms/step\n",
      "1/1 [==============================] - 0s 336ms/step\n",
      "1/1 [==============================] - 0s 353ms/step\n",
      "1/1 [==============================] - 0s 346ms/step\n",
      "1/1 [==============================] - 0s 326ms/step\n",
      "1/1 [==============================] - 0s 335ms/step\n",
      "1/1 [==============================] - 0s 329ms/step\n",
      "1/1 [==============================] - 0s 325ms/step\n",
      "1/1 [==============================] - 0s 325ms/step\n",
      "1/1 [==============================] - 0s 329ms/step\n",
      "1/1 [==============================] - 0s 321ms/step\n",
      "1/1 [==============================] - 0s 283ms/step\n",
      "1/1 [==============================] - 0s 285ms/step\n",
      "1/1 [==============================] - 0s 338ms/step\n",
      "1/1 [==============================] - 0s 286ms/step\n",
      "1/1 [==============================] - 0s 291ms/step\n",
      "1/1 [==============================] - 0s 288ms/step\n",
      "1/1 [==============================] - 0s 281ms/step\n",
      "1/1 [==============================] - 0s 285ms/step\n",
      "1/1 [==============================] - 0s 321ms/step\n",
      "1/1 [==============================] - 0s 372ms/step\n",
      "1/1 [==============================] - 0s 320ms/step\n",
      "1/1 [==============================] - 0s 426ms/step\n",
      "1/1 [==============================] - 0s 323ms/step\n",
      "1/1 [==============================] - 0s 299ms/step\n",
      "1/1 [==============================] - 0s 292ms/step\n",
      "1/1 [==============================] - 0s 308ms/step\n",
      "1/1 [==============================] - 0s 310ms/step\n",
      "1/1 [==============================] - 0s 294ms/step\n",
      "1/1 [==============================] - 0s 285ms/step\n",
      "1/1 [==============================] - 0s 280ms/step\n",
      "1/1 [==============================] - 0s 305ms/step\n",
      "1/1 [==============================] - 0s 294ms/step\n",
      "1/1 [==============================] - 0s 280ms/step\n",
      "1/1 [==============================] - 0s 283ms/step\n",
      "1/1 [==============================] - 0s 295ms/step\n",
      "1/1 [==============================] - 0s 302ms/step\n",
      "1/1 [==============================] - 0s 351ms/step\n",
      "1/1 [==============================] - 1s 555ms/step\n",
      "1/1 [==============================] - 0s 379ms/step\n",
      "1/1 [==============================] - 0s 404ms/step\n",
      "1/1 [==============================] - 0s 366ms/step\n",
      "1/1 [==============================] - 0s 380ms/step\n",
      "1/1 [==============================] - 0s 403ms/step\n",
      "1/1 [==============================] - 0s 376ms/step\n",
      "1/1 [==============================] - 0s 447ms/step\n",
      "1/1 [==============================] - 0s 490ms/step\n",
      "1/1 [==============================] - 1s 606ms/step\n",
      "1/1 [==============================] - 0s 463ms/step\n",
      "1/1 [==============================] - 0s 321ms/step\n",
      "1/1 [==============================] - 0s 355ms/step\n",
      "1/1 [==============================] - 0s 316ms/step\n",
      "1/1 [==============================] - 0s 295ms/step\n",
      "1/1 [==============================] - 0s 284ms/step\n",
      "1/1 [==============================] - 0s 284ms/step\n",
      "1/1 [==============================] - 0s 305ms/step\n",
      "1/1 [==============================] - 0s 282ms/step\n",
      "1/1 [==============================] - 0s 290ms/step\n",
      "1/1 [==============================] - 0s 288ms/step\n",
      "1/1 [==============================] - 0s 283ms/step\n",
      "1/1 [==============================] - 0s 284ms/step\n"
     ]
    },
    {
     "data": {
      "image/png": "[encoded data removed]",
      "text/plain": [
       "<Figure size 1152x648 with 2 Axes>"
      ]
     },
     "metadata": {},
     "output_type": "display_data"
    },
    {
     "name": "stdout",
     "output_type": "stream",
     "text": [
      "test accuracy:Predicted\n",
      "Maize     300.0\n",
      "Okra      300.0\n",
      "Peanut    300.0\n",
      "dtype: float64\n"
     ]
    }
   ],
   "source": [
    "import pandas as pd\n",
    "import seaborn as sn\n",
    "import tensorflow as tf\n",
    "\n",
    "model=tf.keras.models.load_model(r\"D:\\lab images\\saved_model\\VGG16.h5\")\n",
    "filenames=test_generator.filenames\n",
    "nb_samples=len(test_generator)\n",
    "y_prob=[]\n",
    "y_act=[]\n",
    "test_generator.reset()\n",
    "for _ in range(nb_samples):\n",
    "    X_test,Y_test=test_generator.next()\n",
    "    y_prob.append(model.predict(X_test))\n",
    "    y_act.append(Y_test)\n",
    "    \n",
    "predicted_class=[list(train_generator.class_indices.keys())[i.argmax()] for i in y_prob]\n",
    "actual_class=[list(train_generator.class_indices.keys())[i.argmax()] for i in y_act]\n",
    "\n",
    "out_df=pd.DataFrame(np.vstack([predicted_class,actual_class]).T,columns=[\"predicted_class\",\"actual_class\"])\n",
    "confusion_matrix=pd.crosstab(out_df[\"actual_class\"],out_df[\"predicted_class\"],rownames=[\"Actual\"],colnames=[\"Predicted\"])\n",
    "\n",
    "sn.heatmap(confusion_matrix,cmap=\"OrRd\",annot=True,fmt=\"d\")\n",
    "plt.show()\n",
    "print(\"test accuracy:{}\".format((np.diagonal(confusion_matrix).sum()/confusion_matrix.sum()*100)))"
   ]
  },
  {
   "cell_type": "markdown",
   "id": "936a3c1a",
   "metadata": {},
   "source": [
    "# TO CHANGE THE COLOR OF CONFUSION MATRIX"
   ]
  },
  {
   "cell_type": "code",
   "execution_count": null,
   "id": "fa93211a",
   "metadata": {},
   "outputs": [],
   "source": [
    "# # cmap = [Accent, Accent_r, Blues, Blues_r, BrBG, BrBG_r, BuGn, BuGn_r, BuPu, \n",
    "# BuPu_r, CMRmap, CMRmap_r, Dark2, Dark2_r, GnBu, GnBu_r, Greens, Greens_r, \n",
    "# Greys, Greys_r, OrRd, OrRd_r, Oranges, Oranges_r, PRGn, PRGn_r, Paired, Paired_r, \n",
    "# Pastel1, Pastel1_r, Pastel2, Pastel2_r, PiYG, PiYG_r, PuBu, PuBuGn, PuBuGn_r, \n",
    "# PuBu_r, PuOr, PuOr_r, PuRd, PuRd_r, Purples, Purples_r, RdBu, RdBu_r, RdGy, RdGy_r, \n",
    "# RdPu, RdPu_r, RdYlBu, RdYlBu_r, RdYlGn, RdYlGn_r, Reds, Reds_r, Set1, Set1_r, \n",
    "# Set2, Set2_r, Set3, Set3_r, Spectral, Spectral_r, Wistia, Wistia_r, YlGn, YlGnBu, \n",
    "# YlGnBu_r, YlGn_r, YlOrBr, YlOrBr_r, YlOrRd, YlOrRd_r, afmhot, afmhot_r, autumn,\n",
    "# autumn_r, binary, binary_r, bone, bone_r, brg, brg_r, bwr, bwr_r, cividis, \n",
    "# cividis_r, cool, cool_r, coolwarm, coolwarm_r, copper, copper_r, cubehelix, \n",
    "# cubehelix_r, flag, flag_r, gist_earth, gist_earth_r, gist_gray, gist_gray_r,\n",
    "# gist_heat, gist_heat_r, gist_ncar, gist_ncar_r, gist_rainbow, gist_rainbow_r, \n",
    "# gist_stern, gist_stern_r, gist_yarg, gist_yarg_r, gnuplot, gnuplot2, gnuplot2_r, \n",
    "# gnuplot_r, gray, gray_r, hot, hot_r, hsv, hsv_r, icefire, icefire_r, inferno, \n",
    "# inferno_r, jet, jet_r, magma, magma_r, mako, mako_r, nipy_spectral, nipy_spectral_r,\n",
    "# ocean, ocean_r, pink, pink_r, plasma, plasma_r, prism, prism_r, rainbow, rainbow_r, \n",
    "# rocket, rocket_r, seismic, seismic_r, spring, spring_r, summer, summer_r, tab10, \n",
    "# tab10_r, tab20, tab20_r, tab20b, tab20b_r, tab20c, tab20c_r, terrain, terrain_r, \n",
    "# viridis, viridis_r, vlag, vlag_r, winter, winter_r]"
   ]
  },
  {
   "cell_type": "code",
   "execution_count": null,
   "id": "3d38a85f",
   "metadata": {},
   "outputs": [],
   "source": []
  },
  {
   "cell_type": "code",
   "execution_count": null,
   "id": "ec4721d4",
   "metadata": {},
   "outputs": [],
   "source": []
  },
  {
   "cell_type": "code",
   "execution_count": null,
   "id": "eabe057f",
   "metadata": {},
   "outputs": [],
   "source": []
  },
  {
   "cell_type": "code",
   "execution_count": null,
   "id": "a93fecf0",
   "metadata": {},
   "outputs": [],
   "source": []
  },
  {
   "cell_type": "code",
   "execution_count": 24,
   "id": "6b0b86c2",
   "metadata": {},
   "outputs": [
    {
     "name": "stdout",
     "output_type": "stream",
     "text": [
      "['Maize', 'Peanut', 'Maize', 'Maize', 'Maize', 'Maize', 'Maize', 'Maize', 'Peanut', 'Okra', 'Okra', 'Okra', 'Peanut', 'Peanut', 'Peanut', 'Peanut', 'Maize', 'Maize', 'Okra', 'Okra', 'Okra', 'Okra', 'Maize', 'Okra', 'Okra', 'Peanut', 'Peanut', 'Peanut', 'Okra', 'Peanut', 'Maize', 'Maize', 'Peanut', 'Peanut', 'Maize', 'Maize', 'Okra', 'Okra', 'Peanut', 'Peanut', 'Peanut', 'Okra', 'Peanut', 'Okra', 'Maize', 'Maize', 'Okra', 'Okra', 'Maize', 'Peanut', 'Peanut', 'Maize', 'Okra', 'Okra', 'Maize', 'Peanut', 'Peanut', 'Okra', 'Okra', 'Maize', 'Maize', 'Maize', 'Okra', 'Okra', 'Peanut', 'Peanut', 'Maize', 'Maize', 'Peanut', 'Peanut', 'Maize', 'Maize', 'Maize', 'Okra', 'Peanut', 'Peanut', 'Okra', 'Okra', 'Maize', 'Okra', 'Okra', 'Maize', 'Peanut', 'Okra', 'Okra', 'Okra', 'Peanut', 'Peanut', 'Maize', 'Peanut', 'Peanut', 'Okra', 'Maize']\n"
     ]
    }
   ],
   "source": [
    "print(predicted_class)"
   ]
  },
  {
   "cell_type": "code",
   "execution_count": 25,
   "id": "7453f13c",
   "metadata": {},
   "outputs": [
    {
     "name": "stdout",
     "output_type": "stream",
     "text": [
      "['Maize', 'Peanut', 'Maize', 'Maize', 'Maize', 'Maize', 'Maize', 'Maize', 'Peanut', 'Okra', 'Okra', 'Okra', 'Peanut', 'Peanut', 'Peanut', 'Peanut', 'Maize', 'Maize', 'Okra', 'Okra', 'Okra', 'Okra', 'Maize', 'Okra', 'Okra', 'Peanut', 'Peanut', 'Peanut', 'Okra', 'Peanut', 'Maize', 'Maize', 'Peanut', 'Peanut', 'Maize', 'Maize', 'Okra', 'Okra', 'Peanut', 'Peanut', 'Peanut', 'Okra', 'Peanut', 'Okra', 'Maize', 'Maize', 'Okra', 'Okra', 'Maize', 'Peanut', 'Peanut', 'Maize', 'Okra', 'Okra', 'Maize', 'Peanut', 'Peanut', 'Okra', 'Okra', 'Maize', 'Maize', 'Maize', 'Okra', 'Okra', 'Peanut', 'Peanut', 'Maize', 'Maize', 'Peanut', 'Peanut', 'Maize', 'Maize', 'Maize', 'Okra', 'Peanut', 'Peanut', 'Okra', 'Okra', 'Maize', 'Okra', 'Okra', 'Maize', 'Peanut', 'Okra', 'Okra', 'Okra', 'Peanut', 'Peanut', 'Maize', 'Peanut', 'Peanut', 'Okra', 'Maize']\n"
     ]
    }
   ],
   "source": [
    "print(actual_class)"
   ]
  },
  {
   "cell_type": "code",
   "execution_count": 27,
   "id": "91f64438",
   "metadata": {},
   "outputs": [
    {
     "name": "stdout",
     "output_type": "stream",
     "text": [
      "None\n"
     ]
    }
   ],
   "source": [
    "import pandas as pd\n",
    "df = pd.read_csv(r\"D:\\Maize.txt\") # can replace with df = pd.read_table('input.txt') for '\\t'\n",
    "# print(df)\n",
    "print(df.to_excel(r\"D:\\MTP PROJECT\\EXCEL VALUES IMAGES\\output2.xlsx\"))"
   ]
  },
  {
   "cell_type": "code",
   "execution_count": null,
   "id": "9cf31bb4",
   "metadata": {},
   "outputs": [],
   "source": []
  },
  {
   "cell_type": "code",
   "execution_count": null,
   "id": "5563ca15",
   "metadata": {},
   "outputs": [],
   "source": []
  },
  {
   "cell_type": "code",
   "execution_count": null,
   "id": "623b5ade",
   "metadata": {},
   "outputs": [],
   "source": []
  }
 ],
 "metadata": {
  "kernelspec": {
   "display_name": "Python 3 (ipykernel)",
   "language": "python",
   "name": "python3"
  },
  "language_info": {
   "codemirror_mode": {
    "name": "ipython",
    "version": 3
   },
   "file_extension": ".py",
   "mimetype": "text/x-python",
   "name": "python",
   "nbconvert_exporter": "python",
   "pygments_lexer": "ipython3",
   "version": "3.9.12"
  }
 },
 "nbformat": 4,
 "nbformat_minor": 5
}
