{
 "cells": [
  {
   "cell_type": "code",
   "execution_count": null,
   "id": "9ed9aa7d",
   "metadata": {},
   "outputs": [],
   "source": [
    "!pip install split_folders"
   ]
  },
  {
   "cell_type": "code",
   "execution_count": null,
   "id": "bcbc127a",
   "metadata": {},
   "outputs": [],
   "source": [
    "import splitfolders"
   ]
  },
  {
   "cell_type": "code",
   "execution_count": 1,
   "id": "f7f8075b",
   "metadata": {},
   "outputs": [
    {
     "ename": "NameError",
     "evalue": "name 'splitfolders' is not defined",
     "output_type": "error",
     "traceback": [
      "\u001b[1;31m---------------------------------------------------------------------------\u001b[0m",
      "\u001b[1;31mNameError\u001b[0m                                 Traceback (most recent call last)",
      "Input \u001b[1;32mIn [1]\u001b[0m, in \u001b[0;36m<cell line: 3>\u001b[1;34m()\u001b[0m\n\u001b[0;32m      1\u001b[0m input_folder\u001b[38;5;241m=\u001b[39m\u001b[38;5;124mr\u001b[39m\u001b[38;5;124m\"\u001b[39m\u001b[38;5;124mD:\u001b[39m\u001b[38;5;124m\\\u001b[39m\u001b[38;5;124mdataset folder\u001b[39m\u001b[38;5;124m\"\u001b[39m\n\u001b[0;32m      2\u001b[0m output\u001b[38;5;241m=\u001b[39m\u001b[38;5;124mr\u001b[39m\u001b[38;5;124m\"\u001b[39m\u001b[38;5;124mD:\u001b[39m\u001b[38;5;124m\\\u001b[39m\u001b[38;5;124mOUTPUT\u001b[39m\u001b[38;5;124m\"\u001b[39m\n\u001b[1;32m----> 3\u001b[0m \u001b[43msplitfolders\u001b[49m\u001b[38;5;241m.\u001b[39mratio(input_folder,output,seed\u001b[38;5;241m=\u001b[39m\u001b[38;5;241m42\u001b[39m,ratio\u001b[38;5;241m=\u001b[39m(\u001b[38;5;241m0.6\u001b[39m,\u001b[38;5;241m0.2\u001b[39m,\u001b[38;5;241m0.2\u001b[39m))\n",
      "\u001b[1;31mNameError\u001b[0m: name 'splitfolders' is not defined"
     ]
    }
   ],
   "source": [
    "input_folder=r\"D:\\dataset folder\"\n",
    "output=r\"D:\\OUTPUT\"\n",
    "splitfolders.ratio(input_folder,output,seed=42,ratio=(0.6,0.2,0.2))"
   ]
  },
  {
   "cell_type": "code",
   "execution_count": null,
   "id": "a8f20fe1",
   "metadata": {},
   "outputs": [],
   "source": [
    "help(splitfolders.ratio)"
   ]
  },
  {
   "cell_type": "code",
   "execution_count": 2,
   "id": "bea8d27d",
   "metadata": {},
   "outputs": [],
   "source": [
    "from tensorflow.keras.layers import Conv2D,Flatten,Dense,MaxPool2D,BatchNormalization,GlobalAveragePooling2D\n",
    "from tensorflow.keras.applications.resnet50 import preprocess_input,decode_predictions\n",
    "from tensorflow.keras.preprocessing.image import ImageDataGenerator,load_img\n",
    "from tensorflow.keras.applications.resnet50 import ResNet50\n",
    "from tensorflow.keras.models import Sequential\n",
    "from tensorflow.keras.models import Model\n",
    "import matplotlib.pyplot as plt\n",
    "import numpy as np"
   ]
  },
  {
   "cell_type": "code",
   "execution_count": 3,
   "id": "9c757820",
   "metadata": {},
   "outputs": [],
   "source": [
    "img_height,img_width=(224,224)\n",
    "batch_size=3\n",
    "train_data_dir=r\"D:\\MTP PROJECT\\OUTPUT\\train\"\n",
    "valid_data_dir=r\"D:\\MTP PROJECT\\OUTPUT\\val\"\n",
    "test_data_dir=r\"D:\\MTP PROJECT\\OUTPUT\\test\""
   ]
  },
  {
   "cell_type": "code",
   "execution_count": 4,
   "id": "e3c8d4dc",
   "metadata": {},
   "outputs": [
    {
     "name": "stdout",
     "output_type": "stream",
     "text": [
      "Found 141 images belonging to 3 classes.\n",
      "Found 93 images belonging to 3 classes.\n"
     ]
    }
   ],
   "source": [
    "train_datagen=ImageDataGenerator(preprocessing_function=preprocess_input,\n",
    "                                shear_range=0.2,\n",
    "                                zoom_range=0.2,\n",
    "                                horizontal_flip=True,\n",
    "                                validation_split=0.4)\n",
    "\n",
    "train_generator=train_datagen.flow_from_directory(\n",
    "      train_data_dir,\n",
    "      target_size=(img_height,img_width),\n",
    "      batch_size=batch_size,\n",
    "      class_mode=\"categorical\",\n",
    "      subset=\"training\")   #set as training data\n",
    "\n",
    "train_generator=train_datagen.flow_from_directory(\n",
    "      train_data_dir,\n",
    "      target_size=(img_height,img_width),\n",
    "      batch_size=batch_size,\n",
    "      class_mode=\"categorical\",\n",
    "      subset=\"validation\")   #set as validation data\n",
    "\n"
   ]
  },
  {
   "cell_type": "code",
   "execution_count": 5,
   "id": "1ac6814b",
   "metadata": {},
   "outputs": [
    {
     "name": "stdout",
     "output_type": "stream",
     "text": [
      "Found 93 images belonging to 3 classes.\n"
     ]
    }
   ],
   "source": [
    "test_generator=train_datagen.flow_from_directory(\n",
    "      train_data_dir,\n",
    "      target_size=(img_height,img_width),\n",
    "      batch_size=1,\n",
    "      class_mode=\"categorical\",\n",
    "      subset=\"validation\")   #set as validation data\n"
   ]
  },
  {
   "cell_type": "code",
   "execution_count": 6,
   "id": "bc98c68d",
   "metadata": {},
   "outputs": [
    {
     "data": {
      "text/plain": [
       "(1, 224, 224, 3)"
      ]
     },
     "execution_count": 6,
     "metadata": {},
     "output_type": "execute_result"
    }
   ],
   "source": [
    "x,y=test_generator.next()\n",
    "x.shape"
   ]
  },
  {
   "cell_type": "code",
   "execution_count": 7,
   "id": "50b81123",
   "metadata": {},
   "outputs": [
    {
     "data": {
      "text/plain": [
       "3"
      ]
     },
     "execution_count": 7,
     "metadata": {},
     "output_type": "execute_result"
    }
   ],
   "source": [
    "train_generator.num_classes"
   ]
  },
  {
   "cell_type": "code",
   "execution_count": null,
   "id": "e14dab94",
   "metadata": {},
   "outputs": [],
   "source": []
  },
  {
   "cell_type": "code",
   "execution_count": 8,
   "id": "0aabd80e",
   "metadata": {},
   "outputs": [
    {
     "name": "stdout",
     "output_type": "stream",
     "text": [
      "Epoch 1/10\n",
      "31/31 [==============================] - 48s 828ms/step - loss: 1.3553 - accuracy: 0.7742\n",
      "Epoch 2/10\n",
      "31/31 [==============================] - 24s 775ms/step - loss: 0.2518 - accuracy: 0.9247\n",
      "Epoch 3/10\n",
      "31/31 [==============================] - 25s 796ms/step - loss: 0.1087 - accuracy: 0.9677\n",
      "Epoch 4/10\n",
      "31/31 [==============================] - 24s 779ms/step - loss: 0.0163 - accuracy: 0.9892\n",
      "Epoch 5/10\n",
      "31/31 [==============================] - 24s 764ms/step - loss: 0.0032 - accuracy: 1.0000\n",
      "Epoch 6/10\n",
      "31/31 [==============================] - 25s 800ms/step - loss: 3.5794e-05 - accuracy: 1.0000\n",
      "Epoch 7/10\n",
      "31/31 [==============================] - 19s 580ms/step - loss: 3.6470e-04 - accuracy: 1.0000\n",
      "Epoch 8/10\n",
      "31/31 [==============================] - 13s 405ms/step - loss: 4.2789e-04 - accuracy: 1.0000\n",
      "Epoch 9/10\n",
      "31/31 [==============================] - 13s 406ms/step - loss: 4.0309e-05 - accuracy: 1.0000\n",
      "Epoch 10/10\n",
      "31/31 [==============================] - 13s 414ms/step - loss: 0.0011 - accuracy: 1.0000\n"
     ]
    },
    {
     "data": {
      "text/plain": [
       "Text(0.5, 0, 'epochs')"
      ]
     },
     "execution_count": 8,
     "metadata": {},
     "output_type": "execute_result"
    },
    {
     "data": {
      "image/png": "[encoded data removed]",
      "text/plain": [
       "<Figure size 720x1152 with 1 Axes>"
      ]
     },
     "metadata": {
      "needs_background": "light"
     },
     "output_type": "display_data"
    },
    {
     "data": {
      "image/png": "[encoded data removed]",
      "text/plain": [
       "<Figure size 720x1152 with 1 Axes>"
      ]
     },
     "metadata": {},
     "output_type": "display_data"
    }
   ],
   "source": [
    "base_model=ResNet50(include_top=False, weights=\"imagenet\")\n",
    "x=base_model.output\n",
    "x=GlobalAveragePooling2D()(x)\n",
    "x=Dense(1024,activation=\"relu\")(x)\n",
    "predictions=Dense(train_generator.num_classes,activation=\"softmax\")(x)\n",
    "model=Model(inputs=base_model.input,outputs=predictions)\n",
    "\n",
    "for layer in base_model.layers:\n",
    "    layer.trainable=False\n",
    "    \n",
    "model.compile(optimizer=\"adam\",loss=\"categorical_crossentropy\",metrics=[\"accuracy\"])\n",
    "\n",
    "history=model.fit(train_generator,\n",
    "         epochs=10)\n",
    "accuracy = history.history['accuracy']\n",
    "loss=history.history['loss']\n",
    "# loss = history.history[\"categorical_crossentropy\"]\n",
    "\n",
    "plt.figure(figsize=(10, 16))\n",
    "plt.rcParams['figure.figsize'] = [16, 9]\n",
    "plt.rcParams['font.size'] = 14\n",
    "plt.rcParams['axes.grid'] = True\n",
    "plt.rcParams['figure.facecolor'] = 'white'\n",
    "plt.subplot(2, 1, 1)\n",
    "plt.plot(accuracy, label='Train accuracy')\n",
    "# plt.plot(loss, label='loss')\n",
    "plt.legend(loc='lower right')\n",
    "plt.ylabel('Accuracy')\n",
    "plt.xlabel('epochs')\n",
    "\n",
    "plt.figure(figsize=(10, 16))\n",
    "plt.rcParams['figure.figsize'] = [16, 9]\n",
    "plt.rcParams['font.size'] = 14\n",
    "plt.rcParams['axes.grid'] = True\n",
    "plt.rcParams['figure.facecolor'] = 'white'\n",
    "plt.subplot(2, 1, 1)\n",
    "plt.plot(loss, label='loss')\n",
    "plt.legend(loc='lower right')\n",
    "plt.ylabel('Loss')\n",
    "plt.xlabel('epochs')\n",
    "# plt.title(f'\\nTraining and Validation Accuracy. \\nTrain Accuracy:\n",
    "#           {str(acc[-1])}\\nValidation Accuracy: {str(val_acc[-1])}')"
   ]
  },
  {
   "cell_type": "code",
   "execution_count": null,
   "id": "0105016e",
   "metadata": {},
   "outputs": [],
   "source": []
  },
  {
   "cell_type": "code",
   "execution_count": 9,
   "id": "d953f542",
   "metadata": {},
   "outputs": [
    {
     "name": "stdout",
     "output_type": "stream",
     "text": [
      "Epoch 1/10\n",
      "93/93 [==============================] - 40s 368ms/step - loss: 1.5237 - accuracy: 0.7527\n",
      "Epoch 2/10\n",
      "93/93 [==============================] - 34s 366ms/step - loss: 0.0037 - accuracy: 1.0000\n",
      "Epoch 3/10\n",
      "93/93 [==============================] - 27s 292ms/step - loss: 0.0016 - accuracy: 1.0000\n",
      "Epoch 4/10\n",
      "93/93 [==============================] - 35s 375ms/step - loss: 0.0024 - accuracy: 1.0000\n",
      "Epoch 5/10\n",
      "93/93 [==============================] - 34s 366ms/step - loss: 6.9707e-05 - accuracy: 1.0000\n",
      "Epoch 6/10\n",
      "93/93 [==============================] - 34s 369ms/step - loss: 6.1774e-05 - accuracy: 1.0000\n",
      "Epoch 7/10\n",
      "93/93 [==============================] - 34s 365ms/step - loss: 4.9827e-05 - accuracy: 1.0000\n",
      "Epoch 8/10\n",
      "93/93 [==============================] - 36s 381ms/step - loss: 0.3807 - accuracy: 0.9355\n",
      "Epoch 9/10\n",
      "93/93 [==============================] - 33s 358ms/step - loss: 0.2217 - accuracy: 0.9677\n",
      "Epoch 10/10\n",
      "93/93 [==============================] - 34s 366ms/step - loss: 3.3170e-04 - accuracy: 1.0000\n"
     ]
    },
    {
     "data": {
      "text/plain": [
       "Text(0.5, 0, 'epochs')"
      ]
     },
     "execution_count": 9,
     "metadata": {},
     "output_type": "execute_result"
    },
    {
     "data": {
      "image/png": "[encoded data removed]",
      "text/plain": [
       "<Figure size 720x1152 with 1 Axes>"
      ]
     },
     "metadata": {},
     "output_type": "display_data"
    },
    {
     "data": {
      "image/png": "[encoded data removed]",
      "text/plain": [
       "<Figure size 720x1152 with 1 Axes>"
      ]
     },
     "metadata": {},
     "output_type": "display_data"
    }
   ],
   "source": [
    "base_model=ResNet50(include_top=False, weights=\"imagenet\")\n",
    "x=base_model.output\n",
    "x=GlobalAveragePooling2D()(x)\n",
    "x=Dense(1024,activation=\"relu\")(x)\n",
    "predictions=Dense(test_generator.num_classes,activation=\"softmax\")(x)\n",
    "model=Model(inputs=base_model.input,outputs=predictions)\n",
    "\n",
    "for layer in base_model.layers:\n",
    "    layer.trainable=False\n",
    "    \n",
    "model.compile(optimizer=\"adam\",loss=\"categorical_crossentropy\",metrics=[\"accuracy\"])\n",
    "\n",
    "history=model.fit(test_generator,\n",
    "         epochs=10)\n",
    "accuracy = history.history['accuracy']\n",
    "loss=history.history['loss']\n",
    "# loss = history.history[\"categorical_crossentropy\"]\n",
    "\n",
    "plt.figure(figsize=(10, 16))\n",
    "plt.rcParams['figure.figsize'] = [16, 9]\n",
    "plt.rcParams['font.size'] = 14\n",
    "plt.rcParams['axes.grid'] = True\n",
    "plt.rcParams['figure.facecolor'] = 'white'\n",
    "plt.subplot(2, 1, 1)\n",
    "plt.plot(accuracy, label='Test accuracy')\n",
    "# plt.plot(loss, label='loss')\n",
    "plt.legend(loc='lower right')\n",
    "plt.ylabel('Accuracy')\n",
    "plt.xlabel('epochs')\n",
    "\n",
    "plt.figure(figsize=(10, 16))\n",
    "plt.rcParams['figure.figsize'] = [16, 9]\n",
    "plt.rcParams['font.size'] = 14\n",
    "plt.rcParams['axes.grid'] = True\n",
    "plt.rcParams['figure.facecolor'] = 'white'\n",
    "plt.subplot(2, 1, 1)\n",
    "plt.plot(loss, label='loss')\n",
    "plt.legend(loc='lower right')\n",
    "plt.ylabel('Loss')\n",
    "plt.xlabel('epochs')\n",
    "# plt.title(f'\\nTraining and Validation Accuracy. \\nTrain Accuracy:\n",
    "#           {str(acc[-1])}\\nValidation Accuracy: {str(val_acc[-1])}')"
   ]
  },
  {
   "cell_type": "code",
   "execution_count": null,
   "id": "735b7c2a",
   "metadata": {},
   "outputs": [],
   "source": [
    "\n",
    "base_model=ResNet50(include_top=False, weights=\"imagenet\")\n",
    "x=base_model.output\n",
    "x=GlobalAveragePooling2D()(x)\n",
    "x=Dense(1024,activation=\"relu\")(x)\n",
    "predictions=Dense(test_generator.num_classes,activation=\"softmax\")(x)\n",
    "model=Model(inputs=base_model.input,outputs=predictions)\n",
    "\n",
    "for layer in base_model.layers:\n",
    "    layer.trainable=False\n",
    "    \n",
    "model.compile(optimizer=\"adam\",loss=\"categorical_crossentropy\",metrics=[\"accuracy\"])\n",
    "\n",
    "history=model.fit(test_generator,\n",
    "         epochs=10)\n",
    "accuracy = history.history['accuracy']\n",
    "loss=history.history['loss']\n",
    "# loss = history.history[\"categorical_crossentropy\"]\n",
    "\n",
    "plt.figure(figsize=(10, 16))\n",
    "plt.rcParams['figure.figsize'] = [16, 9]\n",
    "plt.rcParams['font.size'] = 14\n",
    "plt.rcParams['axes.grid'] = True\n",
    "plt.rcParams['figure.facecolor'] = 'white'\n",
    "plt.subplot(2, 1, 1)\n",
    "plt.plot(accuracy, label='Train accuracy')\n",
    "# plt.plot(loss, label='loss')\n",
    "plt.legend(loc='lower right')\n",
    "plt.ylabel('Accuracy')\n",
    "plt.xlabel('epochs')\n",
    "\n",
    "plt.figure(figsize=(10, 16))\n",
    "plt.rcParams['figure.figsize'] = [16, 9]\n",
    "plt.rcParams['font.size'] = 14\n",
    "plt.rcParams['axes.grid'] = True\n",
    "plt.rcParams['figure.facecolor'] = 'white'\n",
    "plt.subplot(2, 1, 1)\n",
    "plt.plot(loss, label='loss')\n",
    "plt.legend(loc='lower right')\n",
    "plt.ylabel('Loss')\n",
    "plt.xlabel('epochs')\n"
   ]
  },
  {
   "cell_type": "code",
   "execution_count": 16,
   "id": "8bcd6b24",
   "metadata": {},
   "outputs": [],
   "source": [
    "model.save(r\"D:\\lab images\\saved_model\\ResNet50.h5\")"
   ]
  },
  {
   "cell_type": "code",
   "execution_count": 17,
   "id": "f26f4983",
   "metadata": {},
   "outputs": [
    {
     "name": "stdout",
     "output_type": "stream",
     "text": [
      "93/93 - 14s - loss: 0.0018 - accuracy: 1.0000 - 14s/epoch - 155ms/step\n",
      "\n",
      "Test accuracy: 1.0\n"
     ]
    }
   ],
   "source": [
    "test_loss,test_acc=model.evaluate(test_generator,verbose=2)\n",
    "\n",
    "print(\"\\nTest accuracy:\",test_acc)  #accuracy of test dataset\n"
   ]
  },
  {
   "cell_type": "code",
   "execution_count": 18,
   "id": "ceae0ca9",
   "metadata": {},
   "outputs": [
    {
     "name": "stdout",
     "output_type": "stream",
     "text": [
      "1/1 [==============================] - 1s 1s/step\n",
      "1/1 [==============================] - 0s 135ms/step\n",
      "1/1 [==============================] - 0s 135ms/step\n",
      "1/1 [==============================] - 0s 132ms/step\n",
      "1/1 [==============================] - 0s 131ms/step\n",
      "1/1 [==============================] - 0s 141ms/step\n",
      "1/1 [==============================] - 0s 149ms/step\n",
      "1/1 [==============================] - 0s 132ms/step\n",
      "1/1 [==============================] - 0s 143ms/step\n",
      "1/1 [==============================] - 0s 142ms/step\n",
      "1/1 [==============================] - 0s 136ms/step\n",
      "1/1 [==============================] - 0s 132ms/step\n",
      "1/1 [==============================] - 0s 144ms/step\n",
      "1/1 [==============================] - 0s 134ms/step\n",
      "1/1 [==============================] - 0s 131ms/step\n",
      "1/1 [==============================] - 0s 138ms/step\n",
      "1/1 [==============================] - 0s 143ms/step\n",
      "1/1 [==============================] - 0s 150ms/step\n",
      "1/1 [==============================] - 0s 149ms/step\n",
      "1/1 [==============================] - 0s 145ms/step\n",
      "1/1 [==============================] - 0s 156ms/step\n",
      "1/1 [==============================] - 0s 156ms/step\n",
      "1/1 [==============================] - 0s 150ms/step\n",
      "1/1 [==============================] - 0s 157ms/step\n",
      "1/1 [==============================] - 0s 149ms/step\n",
      "1/1 [==============================] - 0s 181ms/step\n",
      "1/1 [==============================] - 0s 155ms/step\n",
      "1/1 [==============================] - 0s 152ms/step\n",
      "1/1 [==============================] - 0s 159ms/step\n",
      "1/1 [==============================] - 0s 160ms/step\n",
      "1/1 [==============================] - 0s 152ms/step\n",
      "1/1 [==============================] - 0s 154ms/step\n",
      "1/1 [==============================] - 0s 163ms/step\n",
      "1/1 [==============================] - 0s 168ms/step\n",
      "1/1 [==============================] - 0s 184ms/step\n",
      "1/1 [==============================] - 0s 190ms/step\n",
      "1/1 [==============================] - 0s 157ms/step\n",
      "1/1 [==============================] - 0s 143ms/step\n",
      "1/1 [==============================] - 0s 131ms/step\n",
      "1/1 [==============================] - 0s 133ms/step\n",
      "1/1 [==============================] - 0s 145ms/step\n",
      "1/1 [==============================] - 0s 136ms/step\n",
      "1/1 [==============================] - 0s 134ms/step\n",
      "1/1 [==============================] - 0s 137ms/step\n",
      "1/1 [==============================] - 0s 134ms/step\n",
      "1/1 [==============================] - 0s 134ms/step\n",
      "1/1 [==============================] - 0s 145ms/step\n",
      "1/1 [==============================] - 0s 138ms/step\n",
      "1/1 [==============================] - 0s 134ms/step\n",
      "1/1 [==============================] - 0s 133ms/step\n",
      "1/1 [==============================] - 0s 129ms/step\n",
      "1/1 [==============================] - 0s 134ms/step\n",
      "1/1 [==============================] - 0s 137ms/step\n",
      "1/1 [==============================] - 0s 139ms/step\n",
      "1/1 [==============================] - 0s 133ms/step\n",
      "1/1 [==============================] - 0s 137ms/step\n",
      "1/1 [==============================] - 0s 136ms/step\n",
      "1/1 [==============================] - 0s 135ms/step\n",
      "1/1 [==============================] - 0s 147ms/step\n",
      "1/1 [==============================] - 0s 140ms/step\n",
      "1/1 [==============================] - 0s 134ms/step\n",
      "1/1 [==============================] - 0s 137ms/step\n",
      "1/1 [==============================] - 0s 135ms/step\n",
      "1/1 [==============================] - 0s 143ms/step\n",
      "1/1 [==============================] - 0s 137ms/step\n",
      "1/1 [==============================] - 0s 132ms/step\n",
      "1/1 [==============================] - 0s 141ms/step\n",
      "1/1 [==============================] - 0s 144ms/step\n",
      "1/1 [==============================] - 0s 132ms/step\n",
      "1/1 [==============================] - 0s 132ms/step\n",
      "1/1 [==============================] - 0s 146ms/step\n",
      "1/1 [==============================] - 0s 131ms/step\n",
      "1/1 [==============================] - 0s 136ms/step\n",
      "1/1 [==============================] - 0s 133ms/step\n",
      "1/1 [==============================] - 0s 151ms/step\n",
      "1/1 [==============================] - 0s 136ms/step\n",
      "1/1 [==============================] - 0s 131ms/step\n",
      "1/1 [==============================] - 0s 142ms/step\n",
      "1/1 [==============================] - 0s 133ms/step\n",
      "1/1 [==============================] - 0s 144ms/step\n",
      "1/1 [==============================] - 0s 137ms/step\n",
      "1/1 [==============================] - 0s 148ms/step\n",
      "1/1 [==============================] - 0s 135ms/step\n",
      "1/1 [==============================] - 0s 148ms/step\n",
      "1/1 [==============================] - 0s 153ms/step\n",
      "1/1 [==============================] - 0s 154ms/step\n",
      "1/1 [==============================] - 0s 159ms/step\n",
      "1/1 [==============================] - 0s 146ms/step\n",
      "1/1 [==============================] - 0s 149ms/step\n",
      "1/1 [==============================] - 0s 155ms/step\n",
      "1/1 [==============================] - 0s 152ms/step\n",
      "1/1 [==============================] - 0s 159ms/step\n",
      "1/1 [==============================] - 0s 163ms/step\n"
     ]
    },
    {
     "data": {
      "image/png": "[encoded data removed]",
      "text/plain": [
       "<Figure size 1152x648 with 2 Axes>"
      ]
     },
     "metadata": {},
     "output_type": "display_data"
    },
    {
     "name": "stdout",
     "output_type": "stream",
     "text": [
      "test accuracy:Predicted\n",
      "Maize     300.0\n",
      "Okra      300.0\n",
      "Peanut    300.0\n",
      "dtype: float64\n"
     ]
    }
   ],
   "source": [
    "import pandas as pd\n",
    "import seaborn as sn\n",
    "import tensorflow as tf\n",
    "\n",
    "model=tf.keras.models.load_model(r\"D:\\lab images\\saved_model\\ResNet50.h5\")\n",
    "filenames=test_generator.filenames\n",
    "nb_samples=len(test_generator)\n",
    "y_prob=[]\n",
    "y_act=[]\n",
    "test_generator.reset()\n",
    "for _ in range(nb_samples):\n",
    "    X_test,Y_test=test_generator.next()\n",
    "    y_prob.append(model.predict(X_test))\n",
    "    y_act.append(Y_test)\n",
    "    \n",
    "predicted_class=[list(train_generator.class_indices.keys())[i.argmax()] for i in y_prob]\n",
    "actual_class=[list(train_generator.class_indices.keys())[i.argmax()] for i in y_act]\n",
    "\n",
    "out_df=pd.DataFrame(np.vstack([predicted_class,actual_class]).T,columns=[\"predicted_class\",\"actual_class\"])\n",
    "confusion_matrix=pd.crosstab(out_df[\"actual_class\"],out_df[\"predicted_class\"],rownames=[\"Actual\"],colnames=[\"Predicted\"])\n",
    "\n",
    "sn.heatmap(confusion_matrix,cmap=\"Greens\",annot=True,fmt=\"d\")\n",
    "plt.show()\n",
    "print(\"test accuracy:{}\".format((np.diagonal(confusion_matrix).sum()/confusion_matrix.sum()*100)))\n",
    "\n"
   ]
  },
  {
   "cell_type": "code",
   "execution_count": 21,
   "id": "6b4bd9bb",
   "metadata": {},
   "outputs": [],
   "source": [
    "confusion_matrix.to_csv(r'D:/ResNet50_Confusion_Matrix.csv')\n",
    "\n",
    "from pandas import ExcelWriter\n",
    "writer = ExcelWriter('SVM_Confusion_Matrix.xlsx')\n",
    "confusion_matrix.to_excel(writer,'Sheet1')\n",
    "writer.save()"
   ]
  },
  {
   "cell_type": "code",
   "execution_count": null,
   "id": "b91c53cb",
   "metadata": {},
   "outputs": [],
   "source": []
  },
  {
   "cell_type": "code",
   "execution_count": null,
   "id": "3aea6601",
   "metadata": {},
   "outputs": [],
   "source": []
  },
  {
   "cell_type": "code",
   "execution_count": 19,
   "id": "4608f502",
   "metadata": {},
   "outputs": [
    {
     "name": "stdout",
     "output_type": "stream",
     "text": [
      "['Peanut', 'Maize', 'Okra', 'Okra', 'Okra', 'Maize', 'Maize', 'Okra', 'Maize', 'Okra', 'Maize', 'Maize', 'Maize', 'Maize', 'Okra', 'Peanut', 'Maize', 'Peanut', 'Peanut', 'Okra', 'Maize', 'Okra', 'Maize', 'Okra', 'Okra', 'Peanut', 'Maize', 'Peanut', 'Okra', 'Okra', 'Peanut', 'Peanut', 'Okra', 'Peanut', 'Maize', 'Peanut', 'Maize', 'Okra', 'Peanut', 'Peanut', 'Peanut', 'Peanut', 'Peanut', 'Okra', 'Okra', 'Okra', 'Maize', 'Peanut', 'Peanut', 'Peanut', 'Okra', 'Peanut', 'Maize', 'Maize', 'Maize', 'Peanut', 'Maize', 'Okra', 'Maize', 'Maize', 'Okra', 'Maize', 'Okra', 'Peanut', 'Okra', 'Maize', 'Maize', 'Maize', 'Okra', 'Peanut', 'Okra', 'Peanut', 'Maize', 'Peanut', 'Peanut', 'Peanut', 'Maize', 'Okra', 'Maize', 'Peanut', 'Okra', 'Okra', 'Okra', 'Maize', 'Peanut', 'Peanut', 'Peanut', 'Peanut', 'Okra', 'Maize', 'Maize', 'Okra', 'Okra']\n"
     ]
    }
   ],
   "source": [
    "print(predicted_class)"
   ]
  },
  {
   "cell_type": "code",
   "execution_count": 20,
   "id": "9d0c03bf",
   "metadata": {},
   "outputs": [
    {
     "name": "stdout",
     "output_type": "stream",
     "text": [
      "['Peanut', 'Maize', 'Okra', 'Okra', 'Okra', 'Maize', 'Maize', 'Okra', 'Maize', 'Okra', 'Maize', 'Maize', 'Maize', 'Maize', 'Okra', 'Peanut', 'Maize', 'Peanut', 'Peanut', 'Okra', 'Maize', 'Okra', 'Maize', 'Okra', 'Okra', 'Peanut', 'Maize', 'Peanut', 'Okra', 'Okra', 'Peanut', 'Peanut', 'Okra', 'Peanut', 'Maize', 'Peanut', 'Maize', 'Okra', 'Peanut', 'Peanut', 'Peanut', 'Peanut', 'Peanut', 'Okra', 'Okra', 'Okra', 'Maize', 'Peanut', 'Peanut', 'Peanut', 'Okra', 'Peanut', 'Maize', 'Maize', 'Maize', 'Peanut', 'Maize', 'Okra', 'Maize', 'Maize', 'Okra', 'Maize', 'Okra', 'Peanut', 'Okra', 'Maize', 'Maize', 'Maize', 'Okra', 'Peanut', 'Okra', 'Peanut', 'Maize', 'Peanut', 'Peanut', 'Peanut', 'Maize', 'Okra', 'Maize', 'Peanut', 'Okra', 'Okra', 'Okra', 'Maize', 'Peanut', 'Peanut', 'Peanut', 'Peanut', 'Okra', 'Maize', 'Maize', 'Okra', 'Okra']\n"
     ]
    }
   ],
   "source": [
    "print(actual_class)"
   ]
  },
  {
   "cell_type": "code",
   "execution_count": null,
   "id": "37db467e",
   "metadata": {},
   "outputs": [],
   "source": []
  },
  {
   "cell_type": "code",
   "execution_count": null,
   "id": "6a215f5c",
   "metadata": {},
   "outputs": [],
   "source": []
  }
 ],
 "metadata": {
  "kernelspec": {
   "display_name": "Python 3 (ipykernel)",
   "language": "python",
   "name": "python3"
  },
  "language_info": {
   "codemirror_mode": {
    "name": "ipython",
    "version": 3
   },
   "file_extension": ".py",
   "mimetype": "text/x-python",
   "name": "python",
   "nbconvert_exporter": "python",
   "pygments_lexer": "ipython3",
   "version": "3.9.12"
  }
 },
 "nbformat": 4,
 "nbformat_minor": 5
}
